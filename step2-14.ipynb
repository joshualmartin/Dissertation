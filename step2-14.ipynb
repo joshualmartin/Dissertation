{
 "cells": [
  {
   "cell_type": "markdown",
   "id": "9af98568-db11-4b00-9546-6cd0c9e4a154",
   "metadata": {},
   "source": [
    "# Step 2.14: Getting Descriptive Statistics\n",
    "\n",
    "This code will produce a number of descriptive statistics about the CSVs finalized in Step 2.13, including:\n",
    "\n",
    "1. Percent of feature/non-feature correctness in ASR outputs\n",
    "2. Bias ratio for feature/non-feature correctness in ASR outputs\n",
    "3. Word Error Rate (WER) for feature/non-feature in ASR outputs"
   ]
  },
  {
   "cell_type": "markdown",
   "id": "82f27e6b-6798-4684-9d4b-b505d5bbc52f",
   "metadata": {},
   "source": [
    "## Required Packages\n",
    "\n",
    "The following packages are necessary to run this code: os, [pandas](https://pypi.org/project/pandas/)"
   ]
  },
  {
   "cell_type": "markdown",
   "id": "b082f58c-3a5c-4109-91ae-bf6083dbf0da",
   "metadata": {},
   "source": [
    "## Intitial Setup"
   ]
  },
  {
   "cell_type": "code",
   "execution_count": null,
   "id": "9d9910a3-9f2c-450d-b5e8-70c68efaef34",
   "metadata": {},
   "outputs": [],
   "source": [
    "# Import required packages\n",
    "import pandas as pd\n",
    "import os"
   ]
  },
  {
   "cell_type": "code",
   "execution_count": null,
   "id": "b5f9bcf7-7295-44d6-8ef7-dabff40708fd",
   "metadata": {},
   "outputs": [],
   "source": [
    "#filepath for the csv produced in Step 2.11\n",
    "aint_file_path = \"path\"\n",
    "\n",
    "be_file_path = \"path\"\n",
    "\n",
    "done_file_path = \"path\"\n",
    "\n",
    "#reads in the gold standard dataframe    \n",
    "aint_gs_df = pd.read_csv(aint_file_path)\n",
    "\n",
    "be_gs_df = pd.read_csv(be_file_path)\n",
    "\n",
    "done_gs_df = pd.read_csv(done_file_path)"
   ]
  },
  {
   "cell_type": "markdown",
   "id": "6108b2f4-a3a4-4b60-a39e-2d0ed35a1606",
   "metadata": {},
   "source": [
    "# Habitual/Non-Habitual Be"
   ]
  },
  {
   "cell_type": "markdown",
   "id": "be5263b6-4a23-4a66-b76b-0f859396f92a",
   "metadata": {},
   "source": [
    "### Create Dataframes"
   ]
  },
  {
   "cell_type": "code",
   "execution_count": null,
   "id": "b9d874c9-fba0-47a5-8298-44b8c4ea2ed3",
   "metadata": {},
   "outputs": [],
   "source": [
    "# Create a dataframe of only habitual be instances\n",
    "habitual_df = be_gs_df[be_gs_df['Habituality']==1]\n",
    "\n",
    "# Create a dataframe of only non-habitual be instances\n",
    "non_habitual_df = be_gs_df[be_gs_df['Habituality']==0]"
   ]
  },
  {
   "cell_type": "markdown",
   "id": "d48bac36-0c5a-45e8-96b4-f1f158b055ca",
   "metadata": {},
   "source": [
    "### Get Correct/Incorrect Percentages"
   ]
  },
  {
   "cell_type": "code",
   "execution_count": null,
   "id": "a8ebe099-eac6-40ba-81b4-87ab1438bf47",
   "metadata": {},
   "outputs": [],
   "source": [
    "# Non-Habitual Be\n",
    "\n",
    "amazon_non_habitual_incorrect = len(non_habitual_df[non_habitual_df['amazon_transcription_cleaned_correctness']==0])/len(non_habitual_df)*100\n",
    "amazon_non_habitual_correct = len(non_habitual_df[non_habitual_df['amazon_transcription_cleaned_correctness']==1])/len(non_habitual_df)*100\n",
    "\n",
    "deepspeech_non_habitual_incorrect = len(non_habitual_df[non_habitual_df['deepspeech_transcription_cleaned_correctness']==0])/len(non_habitual_df)*100\n",
    "deepspeech_non_habitual_correct = len(non_habitual_df[non_habitual_df['deepspeech_transcription_cleaned_correctness']==1])/len(non_habitual_df)*100\n",
    "\n",
    "google_non_habitual_incorrect = len(non_habitual_df[non_habitual_df['google_transcription_cleaned_correctness']==0])/len(non_habitual_df)*100\n",
    "google_non_habitual_correct = len(non_habitual_df[non_habitual_df['google_transcription_cleaned_correctness']==1])/len(non_habitual_df)*100\n",
    "\n",
    "IBMWatson_non_habitual_incorrect = len(non_habitual_df[non_habitual_df['IBMWatson_transcription_cleaned_correctness']==0])/len(non_habitual_df)*100\n",
    "IBMWatson_non_habitual_correct = len(non_habitual_df[non_habitual_df['IBMWatson_transcription_cleaned_correctness']==1])/len(non_habitual_df)*100\n",
    "\n",
    "microsoft_non_habitual_incorrect = len(non_habitual_df[non_habitual_df['microsoft_transcription_cleaned_correctness']==0])/len(non_habitual_df)*100\n",
    "microsoft_non_habitual_correct = len(non_habitual_df[non_habitual_df['microsoft_transcription_cleaned_correctness']==1])/len(non_habitual_df)*100\n",
    "\n",
    "\n",
    "# Habitual Be\n",
    "\n",
    "amazon_habitual_incorrect = len(habitual_df[habitual_df['amazon_transcription_cleaned_correctness']==0])/len(habitual_df)*100\n",
    "amazon_habitual_correct = len(habitual_df[habitual_df['amazon_transcription_cleaned_correctness']==1])/len(habitual_df)*100\n",
    "\n",
    "deepspeech_habitual_incorrect = len(habitual_df[habitual_df['deepspeech_transcription_cleaned_correctness']==0])/len(habitual_df)*100\n",
    "deepspeech_habitual_correct = len(habitual_df[habitual_df['deepspeech_transcription_cleaned_correctness']==1])/len(habitual_df)*100\n",
    "\n",
    "google_habitual_incorrect = len(habitual_df[habitual_df['google_transcription_cleaned_correctness']==0])/len(habitual_df)*100\n",
    "google_habitual_correct = len(habitual_df[habitual_df['google_transcription_cleaned_correctness']==1])/len(habitual_df)*100\n",
    "\n",
    "IBMWatson_habitual_incorrect = len(habitual_df[habitual_df['IBMWatson_transcription_cleaned_correctness']==0])/len(habitual_df)*100\n",
    "IBMWatson_habitual_correct = len(habitual_df[habitual_df['IBMWatson_transcription_cleaned_correctness']==1])/len(habitual_df)*100\n",
    "\n",
    "microsoft_habitual_incorrect = len(habitual_df[habitual_df['microsoft_transcription_cleaned_correctness']==0])/len(habitual_df)*100\n",
    "microsoft_habitual_correct = len(habitual_df[habitual_df['microsoft_transcription_cleaned_correctness']==1])/len(habitual_df)*100"
   ]
  },
  {
   "cell_type": "markdown",
   "id": "162a1f49-d038-4741-8aa5-809c1e89e9d5",
   "metadata": {},
   "source": [
    "### Create Lists"
   ]
  },
  {
   "cell_type": "code",
   "execution_count": null,
   "id": "c31a0fc1-ebd8-452d-bd11-e6249e515df7",
   "metadata": {},
   "outputs": [],
   "source": [
    "amazon_habitual_list = [amazon_habitual_correct, amazon_habitual_incorrect]\n",
    "amazon_non_habitual_list = [amazon_non_habitual_correct, amazon_non_habitual_incorrect]\n",
    "\n",
    "deepspeech_habitual_list = [deepspeech_habitual_correct, deepspeech_habitual_incorrect]\n",
    "deepspeech_non_habitual_list = [deepspeech_non_habitual_correct, deepspeech_non_habitual_incorrect]\n",
    "\n",
    "google_habitual_list = [google_habitual_correct, google_habitual_incorrect]\n",
    "google_non_habitual_list = [google_non_habitual_correct, google_non_habitual_incorrect]\n",
    "\n",
    "IBMWatson_habitual_list = [IBMWatson_habitual_correct, IBMWatson_habitual_incorrect]\n",
    "IBMWatson_non_habitual_list = [IBMWatson_non_habitual_correct, IBMWatson_non_habitual_incorrect]\n",
    "\n",
    "microsoft_habitual_list = [microsoft_habitual_correct, microsoft_habitual_incorrect]\n",
    "microsoft_non_habitual_list = [microsoft_non_habitual_correct, microsoft_non_habitual_incorrect]"
   ]
  },
  {
   "cell_type": "markdown",
   "id": "07b981d5-a6f1-4cfa-9ae7-e2cb13cc8ad2",
   "metadata": {},
   "source": [
    "### Create Percentage Dataframes"
   ]
  },
  {
   "cell_type": "code",
   "execution_count": null,
   "id": "22759227-8416-4310-89d3-e52b866b8fbd",
   "metadata": {},
   "outputs": [],
   "source": [
    "habitual_percentage_df = pd.DataFrame(columns = [\"amazon\", \"deepspeech\", \"google\", \"IBMWatson\", \"microsoft\"], index = [\"correct\", \"incorrect\"])\n",
    "non_habitual_percentage_df = pd.DataFrame(columns = [\"amazon\", \"deepspeech\", \"google\", \"IBMWatson\", \"microsoft\"], index = [\"correct\", \"incorrect\"])"
   ]
  },
  {
   "cell_type": "markdown",
   "id": "28994d0f-3194-4ecc-9636-eab6e6a7b1da",
   "metadata": {},
   "source": [
    "### Add Information to Percentage Dataframes"
   ]
  },
  {
   "cell_type": "code",
   "execution_count": null,
   "id": "3313a38c-44d0-4735-90b7-ebf97509372e",
   "metadata": {},
   "outputs": [],
   "source": [
    "habitual_percentage_df['amazon'] = amazon_habitual_list\n",
    "habitual_percentage_df['deepspeech'] = deepspeech_habitual_list\n",
    "habitual_percentage_df['google'] = google_habitual_list\n",
    "habitual_percentage_df['IBMWatson'] = IBMWatson_habitual_list\n",
    "habitual_percentage_df['microsoft'] = microsoft_habitual_list\n",
    "\n",
    "non_habitual_percentage_df['amazon'] = amazon_non_habitual_list\n",
    "non_habitual_percentage_df['deepspeech'] = deepspeech_non_habitual_list\n",
    "non_habitual_percentage_df['google'] = google_non_habitual_list\n",
    "non_habitual_percentage_df['IBMWatson'] = IBMWatson_non_habitual_list\n",
    "non_habitual_percentage_df['microsoft'] = microsoft_non_habitual_list\n",
    "\n",
    "habitual_percentage_df = habitual_percentage_df.round(2)\n",
    "non_habitual_percentage_df = non_habitual_percentage_df.round(2)"
   ]
  },
  {
   "cell_type": "markdown",
   "id": "91c04ae1-438d-480c-a645-d83af58d8416",
   "metadata": {},
   "source": [
    "### Create Bias Ratio Dataframe"
   ]
  },
  {
   "cell_type": "code",
   "execution_count": null,
   "id": "b097b26d-d147-4eb2-8645-1adbce6600a1",
   "metadata": {},
   "outputs": [],
   "source": [
    "#correct percentage of non-habitual divided by habitual\n",
    "be_bias_ratio_df = pd.DataFrame(columns = [\"amazon\", \"deepspeech\", \"google\", \"IBMWatson\", \"microsoft\"], index = [\"Non-Habitual/Habitual\"])\n",
    "\n",
    "    \n",
    "try:\n",
    "    be_bias_ratio_df.at[\"Non-Habitual/Habitual\", 'amazon'] = amazon_non_habitual_correct/amazon_habitual_correct\n",
    "\n",
    "except ZeroDivisionError:\n",
    "    be_bias_ratio_df.at[\"Non-Habitual/Habitual\", 'amazon'] = \"No Habitual Be correct\"\n",
    "\n",
    "try:\n",
    "    be_bias_ratio_df.at[\"Non-Habitual/Habitual\", 'deepspeech'] = deepspeech_non_habitual_correct/deepspeech_habitual_correct\n",
    "    \n",
    "except ZeroDivisionError:\n",
    "    be_bias_ratio_df.at[\"Non-Habitual/Habitual\", 'deepspeech'] = \"No Habitual Be correct\"\n",
    "    \n",
    "try:\n",
    "    be_bias_ratio_df.at[\"Non-Habitual/Habitual\", 'google'] = google_non_habitual_correct/google_habitual_correct\n",
    "    \n",
    "except ZeroDivisionError:\n",
    "    be_bias_ratio_df.at[\"Non-Habitual/Habitual\", 'google'] = \"No Habitual Be correct\"\n",
    "\n",
    "try:\n",
    "    be_bias_ratio_df.at[\"Non-Habitual/Habitual\", 'IBMWatson'] = IBMWatson_non_habitual_correct/IBMWatson_habitual_correct\n",
    "    \n",
    "except ZeroDivisionError:\n",
    "    be_bias_ratio_df.at[\"Non-Habitual/Habitual\", 'IBMWatson'] = \"No Habitual Be correct\"\n",
    "    \n",
    "try:\n",
    "    be_bias_ratio_df.at[\"Non-Habitual/Habitual\", 'microsoft'] = microsoft_non_habitual_correct/microsoft_habitual_correct\n",
    "    \n",
    "except ZeroDivisionError:\n",
    "    be_bias_ratio_df.at[\"Non-Habitual/Habitual\", 'microsoft'] = \"No Habitual Be correct\""
   ]
  },
  {
   "cell_type": "markdown",
   "id": "c748445a-2dba-4c6c-989a-c97de247e748",
   "metadata": {},
   "source": [
    "### Create Word Error Rate Dataframe"
   ]
  },
  {
   "cell_type": "code",
   "execution_count": null,
   "id": "e2944f50-ee38-4b80-968a-1d679aa53ff8",
   "metadata": {},
   "outputs": [],
   "source": [
    "habitual_pre_post_WER_df = pd.DataFrame(columns = [\"amazon\", \"deepspeech\", \"google\", \"IBMWatson\", \"microsoft\"], index = [\"pre-feature\", \"post-feature\"])\n",
    "non_habitual_pre_post_WER_df = pd.DataFrame(columns = [\"amazon\", \"deepspeech\", \"google\", \"IBMWatson\", \"microsoft\"], index = [\"pre-feature\", \"post-feature\"])\n",
    "\n",
    "\n",
    "# Non-Habitual Be WER\n",
    "\n",
    "non_habitual_pre_post_WER_df.at[\"pre-feature\", \"amazon\"]= non_habitual_df['amazon_transcription_cleaned_preFeature_WER'].mean(skipna=True)\n",
    "non_habitual_pre_post_WER_df.at[\"post-feature\", \"amazon\"]= non_habitual_df['amazon_transcription_cleaned_postFeature_WER'].mean(skipna=True)\n",
    "\n",
    "non_habitual_pre_post_WER_df.at[\"pre-feature\", \"deepspeech\"]= non_habitual_df['deepspeech_transcription_cleaned_preFeature_WER'].mean(skipna=True)\n",
    "non_habitual_pre_post_WER_df.at[\"post-feature\", \"deepspeech\"]= non_habitual_df['deepspeech_transcription_cleaned_postFeature_WER'].mean(skipna=True)\n",
    "\n",
    "non_habitual_pre_post_WER_df.at[\"pre-feature\", \"google\"]= non_habitual_df['google_transcription_cleaned_preFeature_WER'].mean(skipna=True)\n",
    "non_habitual_pre_post_WER_df.at[\"post-feature\", \"google\"]= non_habitual_df['google_transcription_cleaned_postFeature_WER'].mean(skipna=True)\n",
    "\n",
    "non_habitual_pre_post_WER_df.at[\"pre-feature\", \"IBMWatson\"]= non_habitual_df['IBMWatson_transcription_cleaned_preFeature_WER'].mean(skipna=True)\n",
    "non_habitual_pre_post_WER_df.at[\"post-feature\", \"IBMWatson\"]= non_habitual_df['IBMWatson_transcription_cleaned_postFeature_WER'].mean(skipna=True)\n",
    "\n",
    "non_habitual_pre_post_WER_df.at[\"pre-feature\", \"microsoft\"]= non_habitual_df['microsoft_transcription_cleaned_preFeature_WER'].mean(skipna=True)\n",
    "non_habitual_pre_post_WER_df.at[\"post-feature\", \"microsoft\"]= non_habitual_df['microsoft_transcription_cleaned_postFeature_WER'].mean(skipna=True)\n",
    "\n",
    "\n",
    "# Habitual Be WER\n",
    "\n",
    "habitual_pre_post_WER_df.at[\"pre-feature\", \"amazon\"]= habitual_df['amazon_transcription_cleaned_preFeature_WER'].mean(skipna=True)\n",
    "habitual_pre_post_WER_df.at[\"post-feature\", \"amazon\"]= habitual_df['amazon_transcription_cleaned_postFeature_WER'].mean(skipna=True)\n",
    "\n",
    "habitual_pre_post_WER_df.at[\"pre-feature\", \"deepspeech\"]= habitual_df['deepspeech_transcription_cleaned_preFeature_WER'].mean(skipna=True)\n",
    "habitual_pre_post_WER_df.at[\"post-feature\", \"deepspeech\"]= habitual_df['deepspeech_transcription_cleaned_postFeature_WER'].mean(skipna=True)\n",
    "\n",
    "habitual_pre_post_WER_df.at[\"pre-feature\", \"google\"]= habitual_df['google_transcription_cleaned_preFeature_WER'].mean(skipna=True)\n",
    "habitual_pre_post_WER_df.at[\"post-feature\", \"google\"]= habitual_df['google_transcription_cleaned_postFeature_WER'].mean(skipna=True)\n",
    "\n",
    "habitual_pre_post_WER_df.at[\"pre-feature\", \"IBMWatson\"]= habitual_df['IBMWatson_transcription_cleaned_preFeature_WER'].mean(skipna=True)\n",
    "habitual_pre_post_WER_df.at[\"post-feature\", \"IBMWatson\"]= habitual_df['IBMWatson_transcription_cleaned_postFeature_WER'].mean(skipna=True)\n",
    "\n",
    "habitual_pre_post_WER_df.at[\"pre-feature\", \"microsoft\"]= habitual_df['microsoft_transcription_cleaned_preFeature_WER'].mean(skipna=True)\n",
    "habitual_pre_post_WER_df.at[\"post-feature\", \"microsoft\"]= habitual_df['microsoft_transcription_cleaned_postFeature_WER'].mean(skipna=True)"
   ]
  },
  {
   "cell_type": "markdown",
   "id": "342b5b28-5e47-4b39-ba35-d6af0fb74094",
   "metadata": {},
   "source": [
    "# Completive/Non-Completive Done"
   ]
  },
  {
   "cell_type": "markdown",
   "id": "c045e999-04df-4e06-a0e2-06609b1e453a",
   "metadata": {},
   "source": [
    "### Create Dataframes"
   ]
  },
  {
   "cell_type": "code",
   "execution_count": null,
   "id": "2b5ede08-d8b8-4fec-a5c0-5917fc1e7b81",
   "metadata": {},
   "outputs": [],
   "source": [
    "# Create a dataframe of only completive done instances\n",
    "completive_df = done_gs_df[done_gs_df['Completive']==1]\n",
    "\n",
    "# Create a dataframe of only non-completive done instances\n",
    "non_completive_df = done_gs_df[done_gs_df['Completive']==0]"
   ]
  },
  {
   "cell_type": "markdown",
   "id": "fef87c58-5adc-437e-93d0-5d89a4cd49d1",
   "metadata": {},
   "source": [
    "### Get Correct/Incorrect Percentages"
   ]
  },
  {
   "cell_type": "code",
   "execution_count": null,
   "id": "82c3e802-ac48-4c3e-9bfe-5cd70b997592",
   "metadata": {},
   "outputs": [],
   "source": [
    "# Non-Completive Done\n",
    "\n",
    "amazon_non_completive_incorrect = len(non_completive_df[non_completive_df['amazon_transcription_cleaned_correctness']==0])/len(non_completive_df)*100\n",
    "amazon_non_completive_correct = len(non_completive_df[non_completive_df['amazon_transcription_cleaned_correctness']==1])/len(non_completive_df)*100\n",
    "\n",
    "deepspeech_non_completive_incorrect = len(non_completive_df[non_completive_df['deepspeech_transcription_cleaned_correctness']==0])/len(non_completive_df)*100\n",
    "deepspeech_non_completive_correct = len(non_completive_df[non_completive_df['deepspeech_transcription_cleaned_correctness']==1])/len(non_completive_df)*100\n",
    "\n",
    "google_non_completive_incorrect = len(non_completive_df[non_completive_df['google_transcription_cleaned_correctness']==0])/len(non_completive_df)*100\n",
    "google_non_completive_correct = len(non_completive_df[non_completive_df['google_transcription_cleaned_correctness']==1])/len(non_completive_df)*100\n",
    "\n",
    "IBMWatson_non_completive_incorrect = len(non_completive_df[non_completive_df['IBMWatson_transcription_cleaned_correctness']==0])/len(non_completive_df)*100\n",
    "IBMWatson_non_completive_correct = len(non_completive_df[non_completive_df['IBMWatson_transcription_cleaned_correctness']==1])/len(non_completive_df)*100\n",
    "\n",
    "microsoft_non_completive_incorrect = len(non_completive_df[non_completive_df['microsoft_transcription_cleaned_correctness']==0])/len(non_completive_df)*100\n",
    "microsoft_non_completive_correct = len(non_completive_df[non_completive_df['microsoft_transcription_cleaned_correctness']==1])/len(non_completive_df)*100\n",
    "\n",
    "\n",
    "# Completive Done\n",
    "\n",
    "amazon_completive_incorrect = len(completive_df[completive_df['amazon_transcription_cleaned_correctness']==0])/len(completive_df)*100\n",
    "amazon_completive_correct = len(completive_df[completive_df['amazon_transcription_cleaned_correctness']==1])/len(completive_df)*100\n",
    "\n",
    "deepspeech_completive_incorrect = len(completive_df[completive_df['deepspeech_transcription_cleaned_correctness']==0])/len(completive_df)*100\n",
    "deepspeech_completive_correct = len(completive_df[completive_df['deepspeech_transcription_cleaned_correctness']==1])/len(completive_df)*100\n",
    "\n",
    "google_completive_incorrect = len(completive_df[completive_df['google_transcription_cleaned_correctness']==0])/len(completive_df)*100\n",
    "google_completive_correct = len(completive_df[completive_df['google_transcription_cleaned_correctness']==1])/len(completive_df)*100\n",
    "\n",
    "IBMWatson_completive_incorrect = len(completive_df[completive_df['IBMWatson_transcription_cleaned_correctness']==0])/len(completive_df)*100\n",
    "IBMWatson_completive_correct = len(completive_df[completive_df['IBMWatson_transcription_cleaned_correctness']==1])/len(completive_df)*100\n",
    "\n",
    "microsoft_completive_incorrect = len(completive_df[completive_df['microsoft_transcription_cleaned_correctness']==0])/len(completive_df)*100\n",
    "microsoft_completive_correct = len(completive_df[completive_df['microsoft_transcription_cleaned_correctness']==1])/len(completive_df)*100"
   ]
  },
  {
   "cell_type": "markdown",
   "id": "b9af6d4e-ce28-43b3-b6f6-2824165f952c",
   "metadata": {},
   "source": [
    "### Create Lists"
   ]
  },
  {
   "cell_type": "code",
   "execution_count": null,
   "id": "3c83e184-9a4c-4936-acf5-2444ca300e3d",
   "metadata": {},
   "outputs": [],
   "source": [
    "amazon_completive_list = [amazon_completive_correct, amazon_completive_incorrect]\n",
    "amazon_non_completive_list = [amazon_non_completive_correct, amazon_non_completive_incorrect]\n",
    "\n",
    "deepspeech_completive_list = [deepspeech_completive_correct, deepspeech_completive_incorrect]\n",
    "deepspeech_non_completive_list = [deepspeech_non_completive_correct, deepspeech_non_completive_incorrect]\n",
    "\n",
    "google_completive_list = [google_completive_correct, google_completive_incorrect]\n",
    "google_non_completive_list = [google_non_completive_correct, google_non_completive_incorrect]\n",
    "\n",
    "IBMWatson_completive_list = [IBMWatson_completive_correct, IBMWatson_completive_incorrect]\n",
    "IBMWatson_non_completive_list = [IBMWatson_non_completive_correct, IBMWatson_non_completive_incorrect]\n",
    "\n",
    "microsoft_completive_list = [microsoft_completive_correct, microsoft_completive_incorrect]\n",
    "microsoft_non_completive_list = [microsoft_non_completive_correct, microsoft_non_completive_incorrect]"
   ]
  },
  {
   "cell_type": "markdown",
   "id": "81e0533f-9df9-4f80-9a27-5588d93a2104",
   "metadata": {},
   "source": [
    "### Create Percentage Dataframes"
   ]
  },
  {
   "cell_type": "code",
   "execution_count": null,
   "id": "777fbebe-b25b-4347-aaff-3a5aea94f2f2",
   "metadata": {},
   "outputs": [],
   "source": [
    "completive_percentage_df = pd.DataFrame(columns = [\"amazon\", \"deepspeech\", \"google\", \"IBMWatson\", \"microsoft\"], index = [\"correct\", \"incorrect\"])\n",
    "non_completive_percentage_df = pd.DataFrame(columns = [\"amazon\", \"deepspeech\", \"google\", \"IBMWatson\", \"microsoft\"], index = [\"correct\", \"incorrect\"])"
   ]
  },
  {
   "cell_type": "markdown",
   "id": "88a25e22-f442-4cd0-9c77-b41b7d11e893",
   "metadata": {},
   "source": [
    "### Add Information to Percentage Dataframes"
   ]
  },
  {
   "cell_type": "code",
   "execution_count": null,
   "id": "47756f4e-8893-4979-8cb8-5e6365e543da",
   "metadata": {},
   "outputs": [],
   "source": [
    "completive_percentage_df['amazon'] = amazon_completive_list\n",
    "completive_percentage_df['deepspeech'] = deepspeech_completive_list\n",
    "completive_percentage_df['google'] = google_completive_list\n",
    "completive_percentage_df['IBMWatson'] = IBMWatson_completive_list\n",
    "completive_percentage_df['microsoft'] = microsoft_completive_list\n",
    "\n",
    "non_completive_percentage_df['amazon'] = amazon_non_completive_list\n",
    "non_completive_percentage_df['deepspeech'] = deepspeech_non_completive_list\n",
    "non_completive_percentage_df['google'] = google_non_completive_list\n",
    "non_completive_percentage_df['IBMWatson'] = IBMWatson_non_completive_list\n",
    "non_completive_percentage_df['microsoft'] = microsoft_non_completive_list\n",
    "\n",
    "completive_percentage_df = completive_percentage_df.round(2)\n",
    "non_completive_percentage_df = non_completive_percentage_df.round(2)"
   ]
  },
  {
   "cell_type": "markdown",
   "id": "e2c7c718-576d-498b-b096-24b287cbd6a5",
   "metadata": {},
   "source": [
    "### Create Bias Ratio Dataframe"
   ]
  },
  {
   "cell_type": "code",
   "execution_count": null,
   "id": "7dc4de7a-0772-40b2-9d12-c79cb46b0f17",
   "metadata": {},
   "outputs": [],
   "source": [
    "#correct percentage of non-completive done divided by completive done\n",
    "done_bias_ratio_df = pd.DataFrame(columns = [\"amazon\", \"deepspeech\", \"google\", \"IBMWatson\", \"microsoft\"], index = [\"Non-Completive/Completive\"])\n",
    "\n",
    "\n",
    "try:\n",
    "    done_bias_ratio_df.at[\"Non-Completive/Completive\", 'amazon'] = amazon_non_completive_correct/amazon_completive_correct\n",
    "\n",
    "except ZeroDivisionError:\n",
    "    done_bias_ratio_df.at[\"Non-Completive/Completive\", 'amazon'] = \"No Completive Done correct\"\n",
    "\n",
    "try:\n",
    "    done_bias_ratio_df.at[\"Non-Completive/Completive\", 'deepspeech'] = deepspeech_non_completive_correct/deepspeech_completive_correct\n",
    "    \n",
    "except ZeroDivisionError:\n",
    "    done_bias_ratio_df.at[\"Non-Completive/Completive\", 'deepspeech'] = \"No Completive Done correct\"\n",
    "    \n",
    "try:\n",
    "    done_bias_ratio_df.at[\"Non-Completive/Completive\", 'google'] = google_non_completive_correct/google_completive_correct\n",
    "    \n",
    "except ZeroDivisionError:\n",
    "    done_bias_ratio_df.at[\"Non-Completive/Completive\", 'google'] = \"No Completive Done correct\"\n",
    "\n",
    "try:\n",
    "    done_bias_ratio_df.at[\"Non-Completive/Completive\", 'IBMWatson'] = IBMWatson_non_completive_correct/IBMWatson_completive_correct\n",
    "    \n",
    "except ZeroDivisionError:\n",
    "    done_bias_ratio_df.at[\"Non-Completive/Completive\", 'IBMWatson'] = \"No Completive Done correct\"\n",
    "    \n",
    "try:\n",
    "    done_bias_ratio_df.at[\"Non-Completive/Completive\", 'microsoft'] = microsoft_non_completive_correct/microsoft_completive_correct\n",
    "    \n",
    "except ZeroDivisionError:\n",
    "    done_bias_ratio_df.at[\"Non-Completive/Completive\", 'microsoft'] = \"No Completive Done correct\""
   ]
  },
  {
   "cell_type": "markdown",
   "id": "a2c8136e-4731-4cd2-ac61-be10431be548",
   "metadata": {},
   "source": [
    "### Create Word Error Rate Dataframe"
   ]
  },
  {
   "cell_type": "code",
   "execution_count": null,
   "id": "0d859d18-43c8-42ad-b08c-b96fbc660aa8",
   "metadata": {},
   "outputs": [],
   "source": [
    "# Done WER\n",
    "\n",
    "completive_pre_post_WER_df = pd.DataFrame(columns = [\"amazon\", \"deepspeech\", \"google\", \"IBMWatson\", \"microsoft\"], index = [\"pre-feature\", \"post-feature\"])\n",
    "non_completive_pre_post_WER_df = pd.DataFrame(columns = [\"amazon\", \"deepspeech\", \"google\", \"IBMWatson\", \"microsoft\"], index = [\"pre-feature\", \"post-feature\"])\n",
    "\n",
    "\n",
    "# Non-Completive Done WER\n",
    "\n",
    "non_completive_pre_post_WER_df.at[\"pre-feature\", \"amazon\"]= non_completive_df['amazon_transcription_cleaned_preFeature_WER'].mean(skipna=True)\n",
    "non_completive_pre_post_WER_df.at[\"post-feature\", \"amazon\"]= non_completive_df['amazon_transcription_cleaned_postFeature_WER'].mean(skipna=True)\n",
    "\n",
    "non_completive_pre_post_WER_df.at[\"pre-feature\", \"deepspeech\"]= non_completive_df['deepspeech_transcription_cleaned_preFeature_WER'].mean(skipna=True)\n",
    "non_completive_pre_post_WER_df.at[\"post-feature\", \"deepspeech\"]= non_completive_df['deepspeech_transcription_cleaned_postFeature_WER'].mean(skipna=True)\n",
    "\n",
    "non_completive_pre_post_WER_df.at[\"pre-feature\", \"google\"]= non_completive_df['google_transcription_cleaned_preFeature_WER'].mean(skipna=True)\n",
    "non_completive_pre_post_WER_df.at[\"post-feature\", \"google\"]= non_completive_df['google_transcription_cleaned_postFeature_WER'].mean(skipna=True)\n",
    "\n",
    "non_completive_pre_post_WER_df.at[\"pre-feature\", \"IBMWatson\"]= non_completive_df['IBMWatson_transcription_cleaned_preFeature_WER'].mean(skipna=True)\n",
    "non_completive_pre_post_WER_df.at[\"post-feature\", \"IBMWatson\"]= non_completive_df['IBMWatson_transcription_cleaned_postFeature_WER'].mean(skipna=True)\n",
    "\n",
    "non_completive_pre_post_WER_df.at[\"pre-feature\", \"microsoft\"]= non_completive_df['microsoft_transcription_cleaned_preFeature_WER'].mean(skipna=True)\n",
    "non_completive_pre_post_WER_df.at[\"post-feature\", \"microsoft\"]= non_completive_df['microsoft_transcription_cleaned_postFeature_WER'].mean(skipna=True)\n",
    "\n",
    "\n",
    "# Completive Done WER\n",
    "\n",
    "completive_pre_post_WER_df.at[\"pre-feature\", \"amazon\"]= completive_df['amazon_transcription_cleaned_preFeature_WER'].mean(skipna=True)\n",
    "completive_pre_post_WER_df.at[\"post-feature\", \"amazon\"]= completive_df['amazon_transcription_cleaned_postFeature_WER'].mean(skipna=True)\n",
    "\n",
    "completive_pre_post_WER_df.at[\"pre-feature\", \"deepspeech\"]= completive_df['deepspeech_transcription_cleaned_preFeature_WER'].mean(skipna=True)\n",
    "completive_pre_post_WER_df.at[\"post-feature\", \"deepspeech\"]= completive_df['deepspeech_transcription_cleaned_postFeature_WER'].mean(skipna=True)\n",
    "\n",
    "completive_pre_post_WER_df.at[\"pre-feature\", \"google\"]= completive_df['google_transcription_cleaned_preFeature_WER'].mean(skipna=True)\n",
    "completive_pre_post_WER_df.at[\"post-feature\", \"google\"]= completive_df['google_transcription_cleaned_postFeature_WER'].mean(skipna=True)\n",
    "\n",
    "completive_pre_post_WER_df.at[\"pre-feature\", \"IBMWatson\"]= completive_df['IBMWatson_transcription_cleaned_preFeature_WER'].mean(skipna=True)\n",
    "completive_pre_post_WER_df.at[\"post-feature\", \"IBMWatson\"]= completive_df['IBMWatson_transcription_cleaned_postFeature_WER'].mean(skipna=True)\n",
    "\n",
    "completive_pre_post_WER_df.at[\"pre-feature\", \"microsoft\"]= completive_df['microsoft_transcription_cleaned_preFeature_WER'].mean(skipna=True)\n",
    "completive_pre_post_WER_df.at[\"post-feature\", \"microsoft\"]= completive_df['microsoft_transcription_cleaned_postFeature_WER'].mean(skipna=True)"
   ]
  },
  {
   "cell_type": "markdown",
   "id": "51c12328-b025-4c8f-8327-a9bbca2ceaf1",
   "metadata": {},
   "source": [
    "# Ain't/Non-Aint"
   ]
  },
  {
   "cell_type": "markdown",
   "id": "f1a1522b-c534-49e0-8fa3-c27475b8e915",
   "metadata": {},
   "source": [
    "### Create Dataframes"
   ]
  },
  {
   "cell_type": "code",
   "execution_count": null,
   "id": "73423470-da7f-4576-9298-9436b63e4be6",
   "metadata": {},
   "outputs": [],
   "source": [
    "# Create a dataframe of only completive done instances\n",
    "aint_df = aint_gs_df[aint_gs_df['Aint_NonAint']==1]\n",
    "\n",
    "# Create a dataframe of only non-completive done instances\n",
    "non_aint_df = aint_gs_df[aint_gs_df['Aint_NonAint']==0]"
   ]
  },
  {
   "cell_type": "markdown",
   "id": "457baa05-12bd-48db-81f5-a3d40ccadb28",
   "metadata": {},
   "source": [
    "### Get Correct/Incorrect Percentages"
   ]
  },
  {
   "cell_type": "code",
   "execution_count": null,
   "id": "31f2bb40-b1c2-43b7-a78c-07d1fc01bc81",
   "metadata": {},
   "outputs": [],
   "source": [
    "# Non-ain't\n",
    "\n",
    "amazon_non_aint_incorrect = len(non_aint_df[non_aint_df['amazon_transcription_cleaned_correctness']==0])/len(non_aint_df)*100\n",
    "amazon_non_aint_correct = len(non_aint_df[non_aint_df['amazon_transcription_cleaned_correctness']==1])/len(non_aint_df)*100\n",
    "\n",
    "deepspeech_non_aint_incorrect = len(non_aint_df[non_aint_df['deepspeech_transcription_cleaned_correctness']==0])/len(non_aint_df)*100\n",
    "deepspeech_non_aint_correct = len(non_aint_df[non_aint_df['deepspeech_transcription_cleaned_correctness']==1])/len(non_aint_df)*100\n",
    "\n",
    "google_non_aint_incorrect = len(non_aint_df[non_aint_df['google_transcription_cleaned_correctness']==0])/len(non_aint_df)*100\n",
    "google_non_aint_correct = len(non_aint_df[non_aint_df['google_transcription_cleaned_correctness']==1])/len(non_aint_df)*100\n",
    "\n",
    "IBMWatson_non_aint_incorrect = len(non_aint_df[non_aint_df['IBMWatson_transcription_cleaned_correctness']==0])/len(non_aint_df)*100\n",
    "IBMWatson_non_aint_correct = len(non_aint_df[non_aint_df['IBMWatson_transcription_cleaned_correctness']==1])/len(non_aint_df)*100\n",
    "\n",
    "microsoft_non_aint_incorrect = len(non_aint_df[non_aint_df['microsoft_transcription_cleaned_correctness']==0])/len(non_aint_df)*100\n",
    "microsoft_non_aint_correct = len(non_aint_df[non_aint_df['microsoft_transcription_cleaned_correctness']==1])/len(non_aint_df)*100\n",
    "\n",
    "\n",
    "# aint\n",
    "\n",
    "amazon_aint_incorrect = len(aint_df[aint_df['amazon_transcription_cleaned_correctness']==0])/len(aint_df)*100\n",
    "amazon_aint_correct = len(aint_df[aint_df['amazon_transcription_cleaned_correctness']==1])/len(aint_df)*100\n",
    "\n",
    "deepspeech_aint_incorrect = len(aint_df[aint_df['deepspeech_transcription_cleaned_correctness']==0])/len(aint_df)*100\n",
    "deepspeech_aint_correct = len(aint_df[aint_df['deepspeech_transcription_cleaned_correctness']==1])/len(aint_df)*100\n",
    "\n",
    "google_aint_incorrect = len(aint_df[aint_df['google_transcription_cleaned_correctness']==0])/len(aint_df)*100\n",
    "google_aint_correct = len(aint_df[aint_df['google_transcription_cleaned_correctness']==1])/len(aint_df)*100\n",
    "\n",
    "IBMWatson_aint_incorrect = len(aint_df[aint_df['IBMWatson_transcription_cleaned_correctness']==0])/len(aint_df)*100\n",
    "IBMWatson_aint_correct = len(aint_df[aint_df['IBMWatson_transcription_cleaned_correctness']==1])/len(aint_df)*100\n",
    "\n",
    "microsoft_aint_incorrect = len(aint_df[aint_df['microsoft_transcription_cleaned_correctness']==0])/len(aint_df)*100\n",
    "microsoft_aint_correct = len(aint_df[aint_df['microsoft_transcription_cleaned_correctness']==1])/len(aint_df)*100"
   ]
  },
  {
   "cell_type": "markdown",
   "id": "4551dc93-1dc5-4ffc-97d8-e99d08c9cd00",
   "metadata": {},
   "source": [
    "### Create Lists"
   ]
  },
  {
   "cell_type": "code",
   "execution_count": null,
   "id": "79c17c51-8d49-42ff-bf9d-a9b74f92ec74",
   "metadata": {},
   "outputs": [],
   "source": [
    "amazon_aint_list = [amazon_aint_correct, amazon_aint_incorrect]\n",
    "amazon_non_aint_list = [amazon_non_aint_correct, amazon_non_aint_incorrect]\n",
    "\n",
    "deepspeech_aint_list = [deepspeech_aint_correct, deepspeech_aint_incorrect]\n",
    "deepspeech_non_aint_list = [deepspeech_non_aint_correct, deepspeech_non_aint_incorrect]\n",
    "\n",
    "google_aint_list = [google_aint_correct, google_aint_incorrect]\n",
    "google_non_aint_list = [google_non_aint_correct, google_non_aint_incorrect]\n",
    "\n",
    "IBMWatson_aint_list = [IBMWatson_aint_correct, IBMWatson_aint_incorrect]\n",
    "IBMWatson_non_aint_list = [IBMWatson_non_aint_correct, IBMWatson_non_aint_incorrect]\n",
    "\n",
    "microsoft_aint_list = [microsoft_aint_correct, microsoft_aint_incorrect]\n",
    "microsoft_non_aint_list = [microsoft_non_aint_correct, microsoft_non_aint_incorrect]"
   ]
  },
  {
   "cell_type": "markdown",
   "id": "fda4894b-1e46-4029-bbd7-4c9066443c88",
   "metadata": {},
   "source": [
    "### Create Percentage Dataframes"
   ]
  },
  {
   "cell_type": "code",
   "execution_count": null,
   "id": "a0b9c68a-72df-44b4-a11e-9955892c6505",
   "metadata": {},
   "outputs": [],
   "source": [
    "aint_percentage_df = pd.DataFrame(columns = [\"amazon\", \"deepspeech\", \"google\", \"IBMWatson\", \"microsoft\"], index = [\"correct\", \"incorrect\"])\n",
    "non_aint_percentage_df = pd.DataFrame(columns = [\"amazon\", \"deepspeech\", \"google\", \"IBMWatson\", \"microsoft\"], index = [\"correct\", \"incorrect\"])"
   ]
  },
  {
   "cell_type": "markdown",
   "id": "17d4eaa5-8df8-420e-a5ae-fce8352d4d29",
   "metadata": {},
   "source": [
    "### Add Information to Percentage Dataframes"
   ]
  },
  {
   "cell_type": "code",
   "execution_count": null,
   "id": "d7a22beb-b8a2-4db0-8f31-a07f766f39b7",
   "metadata": {},
   "outputs": [],
   "source": [
    "aint_percentage_df['amazon'] = amazon_aint_list\n",
    "aint_percentage_df['deepspeech'] = deepspeech_aint_list\n",
    "aint_percentage_df['google'] = google_aint_list\n",
    "aint_percentage_df['IBMWatson'] = IBMWatson_aint_list\n",
    "aint_percentage_df['microsoft'] = microsoft_aint_list\n",
    "\n",
    "non_aint_percentage_df['amazon'] = amazon_non_aint_list\n",
    "non_aint_percentage_df['deepspeech'] = deepspeech_non_aint_list\n",
    "non_aint_percentage_df['google'] = google_non_aint_list\n",
    "non_aint_percentage_df['IBMWatson'] = IBMWatson_non_aint_list\n",
    "non_aint_percentage_df['microsoft'] = microsoft_non_aint_list\n",
    "\n",
    "aint_percentage_df = aint_percentage_df.round(2)\n",
    "non_aint_percentage_df = non_aint_percentage_df.round(2)"
   ]
  },
  {
   "cell_type": "markdown",
   "id": "5f3572ea-acc2-4284-b3f1-07999fe6c619",
   "metadata": {},
   "source": [
    "### Create Bias Ratio Dataframe"
   ]
  },
  {
   "cell_type": "code",
   "execution_count": null,
   "id": "fb4d3202-dd54-4edb-8593-a8f064fee74d",
   "metadata": {},
   "outputs": [],
   "source": [
    "#correct percentage of non-aint divided by aint\n",
    "aint_bias_ratio_df = pd.DataFrame(columns = [\"amazon\", \"deepspeech\", \"google\", \"IBMWatson\", \"microsoft\"], index = [\"Non-aint/aint\"])\n",
    "\n",
    "\n",
    "try:\n",
    "    aint_bias_ratio_df.at[\"Non-aint/aint\", 'amazon'] = amazon_non_aint_correct/amazon_aint_correct\n",
    "\n",
    "except ZeroDivisionError:\n",
    "    aint_bias_ratio_df.at[\"Non-aint/aint\", 'amazon'] = \"No ain't correct\"\n",
    "\n",
    "try:\n",
    "    aint_bias_ratio_df.at[\"Non-aint/aint\", 'deepspeech'] = deepspeech_non_aint_correct/deepspeech_aint_correct\n",
    "    \n",
    "except ZeroDivisionError:\n",
    "    aint_bias_ratio_df.at[\"Non-aint/aint\", 'deepspeech'] = \"No ain't correct\"\n",
    "    \n",
    "try:\n",
    "    aint_bias_ratio_df.at[\"Non-aint/aint\", 'google'] = google_non_aint_correct/google_aint_correct\n",
    "    \n",
    "except ZeroDivisionError:\n",
    "    aint_bias_ratio_df.at[\"Non-aint/aint\", 'google'] = \"No ain't correct\"\n",
    "\n",
    "try:\n",
    "    aint_bias_ratio_df.at[\"Non-aint/aint\", 'IBMWatson'] = IBMWatson_non_aint_correct/IBMWatson_aint_correct\n",
    "    \n",
    "except ZeroDivisionError:\n",
    "    aint_bias_ratio_df.at[\"Non-aint/aint\", 'IBMWatson'] = \"No ain't correct\"\n",
    "    \n",
    "try:\n",
    "    aint_bias_ratio_df.at[\"Non-aint/aint\", 'microsoft'] = microsoft_non_aint_correct/microsoft_aint_correct\n",
    "    \n",
    "except ZeroDivisionError:\n",
    "    aint_bias_ratio_df.at[\"Non-aint/aint\", 'microsoft'] = \"No ain't correct\""
   ]
  },
  {
   "cell_type": "markdown",
   "id": "b741f1a1-eb60-4454-a07a-dcd478b3d27d",
   "metadata": {},
   "source": [
    "### Create Word Error Rate Dataframe"
   ]
  },
  {
   "cell_type": "code",
   "execution_count": null,
   "id": "0ab2c7ca-85b3-4c04-85a1-9e0747d17e1d",
   "metadata": {},
   "outputs": [],
   "source": [
    "# WER\n",
    "\n",
    "aint_pre_post_WER_df = pd.DataFrame(columns = [\"amazon\", \"deepspeech\", \"google\", \"IBMWatson\", \"microsoft\"], index = [\"pre-feature\", \"post-feature\"])\n",
    "non_aint_pre_post_WER_df = pd.DataFrame(columns = [\"amazon\", \"deepspeech\", \"google\", \"IBMWatson\", \"microsoft\"], index = [\"pre-feature\", \"post-feature\"])\n",
    "\n",
    "\n",
    "# Non-aint WER\n",
    "\n",
    "non_aint_pre_post_WER_df.at[\"pre-feature\", \"amazon\"]= non_aint_df['amazon_transcription_cleaned_preFeature_WER'].mean(skipna=True)\n",
    "non_aint_pre_post_WER_df.at[\"post-feature\", \"amazon\"]= non_aint_df['amazon_transcription_cleaned_postFeature_WER'].mean(skipna=True)\n",
    "\n",
    "non_aint_pre_post_WER_df.at[\"pre-feature\", \"deepspeech\"]= non_aint_df['deepspeech_transcription_cleaned_preFeature_WER'].mean(skipna=True)\n",
    "non_aint_pre_post_WER_df.at[\"post-feature\", \"deepspeech\"]= non_aint_df['deepspeech_transcription_cleaned_postFeature_WER'].mean(skipna=True)\n",
    "\n",
    "non_aint_pre_post_WER_df.at[\"pre-feature\", \"google\"]= non_aint_df['google_transcription_cleaned_preFeature_WER'].mean(skipna=True)\n",
    "non_aint_pre_post_WER_df.at[\"post-feature\", \"google\"]= non_aint_df['google_transcription_cleaned_postFeature_WER'].mean(skipna=True)\n",
    "\n",
    "non_aint_pre_post_WER_df.at[\"pre-feature\", \"IBMWatson\"]= non_aint_df['IBMWatson_transcription_cleaned_preFeature_WER'].mean(skipna=True)\n",
    "non_aint_pre_post_WER_df.at[\"post-feature\", \"IBMWatson\"]= non_aint_df['IBMWatson_transcription_cleaned_postFeature_WER'].mean(skipna=True)\n",
    "\n",
    "non_aint_pre_post_WER_df.at[\"pre-feature\", \"microsoft\"]= non_aint_df['microsoft_transcription_cleaned_preFeature_WER'].mean(skipna=True)\n",
    "non_aint_pre_post_WER_df.at[\"post-feature\", \"microsoft\"]= non_aint_df['microsoft_transcription_cleaned_postFeature_WER'].mean(skipna=True)\n",
    "\n",
    "\n",
    "# aint WER\n",
    "\n",
    "aint_pre_post_WER_df.at[\"pre-feature\", \"amazon\"]= aint_df['amazon_transcription_cleaned_preFeature_WER'].mean(skipna=True)\n",
    "aint_pre_post_WER_df.at[\"post-feature\", \"amazon\"]= aint_df['amazon_transcription_cleaned_postFeature_WER'].mean(skipna=True)\n",
    "\n",
    "aint_pre_post_WER_df.at[\"pre-feature\", \"deepspeech\"]= aint_df['deepspeech_transcription_cleaned_preFeature_WER'].mean(skipna=True)\n",
    "aint_pre_post_WER_df.at[\"post-feature\", \"deepspeech\"]= aint_df['deepspeech_transcription_cleaned_postFeature_WER'].mean(skipna=True)\n",
    "\n",
    "aint_pre_post_WER_df.at[\"pre-feature\", \"google\"]= aint_df['google_transcription_cleaned_preFeature_WER'].mean(skipna=True)\n",
    "aint_pre_post_WER_df.at[\"post-feature\", \"google\"]= aint_df['google_transcription_cleaned_postFeature_WER'].mean(skipna=True)\n",
    "\n",
    "aint_pre_post_WER_df.at[\"pre-feature\", \"IBMWatson\"]= aint_df['IBMWatson_transcription_cleaned_preFeature_WER'].mean(skipna=True)\n",
    "aint_pre_post_WER_df.at[\"post-feature\", \"IBMWatson\"]= aint_df['IBMWatson_transcription_cleaned_postFeature_WER'].mean(skipna=True)\n",
    "\n",
    "aint_pre_post_WER_df.at[\"pre-feature\", \"microsoft\"]= aint_df['microsoft_transcription_cleaned_preFeature_WER'].mean(skipna=True)\n",
    "aint_pre_post_WER_df.at[\"post-feature\", \"microsoft\"]= aint_df['microsoft_transcription_cleaned_postFeature_WER'].mean(skipna=True)"
   ]
  },
  {
   "cell_type": "markdown",
   "id": "5f983788-c9a5-4b73-8a2e-1d18a6ae24b9",
   "metadata": {},
   "source": [
    "## Exporting Dataframes to CSV Files\n",
    "\n",
    "This will export the dataframes to CSV files."
   ]
  },
  {
   "cell_type": "code",
   "execution_count": null,
   "id": "34ff3dee-e5ab-47f3-a75d-14de88610b74",
   "metadata": {},
   "outputs": [],
   "source": [
    "# Designate the output path where the CSVs will be stored\n",
    "csv_output_path = \"path\""
   ]
  },
  {
   "cell_type": "markdown",
   "id": "44331a54-e11e-4b58-813a-717796e37e73",
   "metadata": {},
   "source": [
    "### Feature: Ain't"
   ]
  },
  {
   "cell_type": "code",
   "execution_count": null,
   "id": "247e3561-7148-4ace-aa8f-2e2ca60a93e6",
   "metadata": {},
   "outputs": [],
   "source": [
    "aint_percentage_df.to_csv(f\"{csv_output_path}aint_variations_percentCorrect.csv\")\n",
    "non_aint_percentage_df.to_csv(f\"{csv_output_path}nonAint_variations_percentCorrect.csv\")\n",
    "\n",
    "aint_bias_ratio_df.to_csv(f\"{csv_output_path}aint_variations_biasRatio.csv\")\n",
    "\n",
    "aint_pre_post_WER_df.to_csv(f\"{csv_output_path}aint_variations_summaryWER.csv\")\n",
    "non_aint_pre_post_WER_df.to_csv(f\"{csv_output_path}nonAint_variations_summaryWER.csv\")"
   ]
  },
  {
   "cell_type": "markdown",
   "id": "ddf982d6-41cb-46d8-9917-8d4a6a5bdd4d",
   "metadata": {},
   "source": [
    "### Feature: Be"
   ]
  },
  {
   "cell_type": "code",
   "execution_count": null,
   "id": "26b6042b-fa7e-4017-aac3-7cfca0b8fc94",
   "metadata": {},
   "outputs": [],
   "source": [
    "habitual_percentage_df.to_csv(f\"{csv_output_path}habitualBe_percentCorrect.csv\")\n",
    "non_habitual_percentage_df.to_csv(f\"{csv_output_path}nonHabitualBe_percentCorrect.csv\")\n",
    "\n",
    "be_bias_ratio_df.to_csv(f\"{csv_output_path}be_biasRatio.csv\")\n",
    "\n",
    "habitual_pre_post_WER_df.to_csv(f\"{csv_output_path}habitualBe_summaryWER.csv\")\n",
    "non_habitual_pre_post_WER_df.to_csv(f\"{csv_output_path}nonHabitualBe_summaryWER.csv\")"
   ]
  },
  {
   "cell_type": "markdown",
   "id": "101802dd-7fd7-4676-a52b-8b9d76e1c990",
   "metadata": {},
   "source": [
    "### Feature: Done"
   ]
  },
  {
   "cell_type": "code",
   "execution_count": null,
   "id": "3d4cab56-e32a-467e-aa8e-12a6640b5ef9",
   "metadata": {},
   "outputs": [],
   "source": [
    "completive_percentage_df.to_csv(f\"{csv_output_path}completiveDone_percentCorrect.csv\")\n",
    "non_completive_percentage_df.to_csv(f\"{csv_output_path}nonCompletiveDone_percentCorrect.csv\")\n",
    "\n",
    "done_bias_ratio_df.to_csv(f\"{csv_output_path}done_biasRatio.csv\")\n",
    "\n",
    "completive_pre_post_WER_df.to_csv(f\"{csv_output_path}completiveDone_summaryWER.csv\")\n",
    "non_completive_pre_post_WER_df.to_csv(f\"{csv_output_path}nonCompletiveDone_summaryWER.csv\")"
   ]
  },
  {
   "cell_type": "code",
   "execution_count": null,
   "id": "b3df4499-4d1b-4953-939e-b1179bebf0b3",
   "metadata": {},
   "outputs": [],
   "source": []
  }
 ],
 "metadata": {
  "kernelspec": {
   "display_name": "Python 3 (ipykernel)",
   "language": "python",
   "name": "python3"
  },
  "language_info": {
   "codemirror_mode": {
    "name": "ipython",
    "version": 3
   },
   "file_extension": ".py",
   "mimetype": "text/x-python",
   "name": "python",
   "nbconvert_exporter": "python",
   "pygments_lexer": "ipython3",
   "version": "3.9.6"
  }
 },
 "nbformat": 4,
 "nbformat_minor": 5
}
