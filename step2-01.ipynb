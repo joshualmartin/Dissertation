{
 "cells": [
  {
   "cell_type": "markdown",
   "id": "bf78ff63-ae1b-4a6c-a959-6a71d2d83a76",
   "metadata": {},
   "source": [
    "# Step 2.1: Parsing CORAAL Audio\n",
    "\n",
    "This code will split CORAAL audio files based on utterance start and end times from the CSVs produced in Step 1. "
   ]
  },
  {
   "cell_type": "markdown",
   "id": "98e01ee8-e091-4f3a-9c45-9c7766929bce",
   "metadata": {},
   "source": [
    "## Required Packages\n",
    "\n",
    "The following packages are necessary to run this code:\n",
    "[pandas](https://pypi.org/project/pandas/), [parselmouth](https://parselmouth.readthedocs.io/en/stable/)\n",
    "\n",
    "**Note:** When installing parselmouth, use *pip install praat-parselmouth* rather than *pip install parselmouth*. The latter is the incorrect package."
   ]
  },
  {
   "cell_type": "markdown",
   "id": "1522fae9-f8f6-480d-af8f-1b040c1794c0",
   "metadata": {},
   "source": [
    "## Convert Audio Sampling Rates\n",
    "\n",
    "Because CORAAL audio files are in 44.1khz, they will need to be converted to 16khz in order to be processed by the automatic speech recognition (ASR) services. The following instructions were built for MacOS. \n",
    "\n",
    "<ol>\n",
    "    <li> Use <a href=\"https://brew.sh/\">Homebrew</a> to install <a href=\"http://sox.sourceforge.net/\">sox</a> in the command line (terminal).\n",
    "        <ul>\n",
    "            <li>brew install sox</li>\n",
    "        </ul>\n",
    "    </li>\n",
    "    <li> Move the current working directory of the folder with the audio files to be converted </li>\n",
    "    <li> Use this command in the command line: for file in *.wav; do sox \"\\$file\" \"16khz_$file\" rate 16k; done  (taken from <a href=\"https://madskjeldgaard.dk/posts/sox-tutorial-batch-processing/\n",
    "        \">here</a>)</li>"
   ]
  },
  {
   "cell_type": "markdown",
   "id": "d8cfb8b8-fa93-4249-bc8c-a4094690aa68",
   "metadata": {},
   "source": [
    "## Parsing the Audio"
   ]
  },
  {
   "cell_type": "code",
   "execution_count": null,
   "id": "055939fe-87c4-4ee3-8db3-9b3c54ae293f",
   "metadata": {},
   "outputs": [],
   "source": [
    "# Designate the input path where the gold standard CSVs are stored\n",
    "csv_input_path = \"path\"\n",
    "\n",
    "# Designate the input path where the full audio files are stored\n",
    "audio_input_path = \"path\""
   ]
  },
  {
   "cell_type": "code",
   "execution_count": null,
   "id": "5a21d27d-c3ed-47c5-848f-ec95a7485e75",
   "metadata": {},
   "outputs": [],
   "source": [
    "import parselmouth\n",
    "import pandas as pd"
   ]
  },
  {
   "cell_type": "markdown",
   "id": "67a6e62e-034f-42ad-8b44-454cefbac239",
   "metadata": {},
   "source": [
    "### Feature: Ain't"
   ]
  },
  {
   "cell_type": "code",
   "execution_count": null,
   "id": "77d2594e-d9c8-4770-86b1-49fec7e2b368",
   "metadata": {},
   "outputs": [],
   "source": [
    "# Designate the filename of the gold standard corpus CSV\n",
    "csv_filename = \"aint_variations_coraal_instances_GoldStandard.csv\"\n",
    "\n",
    "# Designate the output path where the parsed audio files will be stored\n",
    "audio_output_path = \"path\"\n",
    "\n",
    "#reads in the CSV file and converts to a pandas dataframe\n",
    "feature_instances_df = pd.read_csv(f\"{csv_input_path}{csv_filename}\")\n",
    "\n",
    "#loops through dataframe rows and produces desired sound clips\n",
    "for row in feature_instances_df.itertuples():\n",
    "    \n",
    "    #stores the file ID of the audio file (string type)\n",
    "    sound_filename = f\"16khz_{row.File}.wav\"\n",
    "    \n",
    "    #stores the line number of the utterance\n",
    "    sound_line = row.Line\n",
    "    \n",
    "    #stores the number of feature instances in the utterance\n",
    "    feature_count = row.FeatureCountPerLine\n",
    "    \n",
    "    #stores the utterance start time in seconds and milliseconds (float type)\n",
    "    utt_start_time = row.UttStartTime\n",
    "    \n",
    "    #stores the utterance end time in seconds and milliseconds (float type)\n",
    "    utt_end_time = row.UttEndTime\n",
    "    \n",
    "    #creates an instance of the Parselmouth Sound class using the audio filename\n",
    "    sound = parselmouth.Sound(f\"{audio_input_path}{sound_filename}\")\n",
    "    \n",
    "    #extracts the desired section of the audio\n",
    "    subsound = sound.extract_part(from_time=utt_start_time,to_time=utt_end_time, preserve_times=False)\n",
    "    \n",
    "    #saves the section as a wav file\n",
    "    #the first argument here is the file path plus the new file name\n",
    "    #  the file names will include originalAudioFileID_utteranceStartTime_UtteranceEndTime.wav\n",
    "    subsound.save(f\"{audio_output_path}{sound_filename[:-4]}_Line{sound_line}_FeatCount{feature_count}.wav\", \"WAV\")"
   ]
  },
  {
   "cell_type": "markdown",
   "id": "cb3fa7fb-a84f-4b74-b3b0-93c169dbe337",
   "metadata": {},
   "source": [
    "### Feature: Be"
   ]
  },
  {
   "cell_type": "code",
   "execution_count": null,
   "id": "3cae2a7b-b118-4ced-8957-d09f0296527a",
   "metadata": {},
   "outputs": [],
   "source": [
    "# Designate the filename of the gold standard corpus CSV\n",
    "csv_filename = \"be_coraal_instances_GoldStandard.csv\"\n",
    "\n",
    "# Designate the output path where the parsed audio files will be stored\n",
    "audio_output_path = \"path\"\n",
    "\n",
    "#reads in the CSV file and converts to a pandas dataframe\n",
    "feature_instances_df = pd.read_csv(f\"{csv_input_path}{csv_filename}\")\n",
    "\n",
    "#loops through dataframe rows and produces desired sound clips\n",
    "for row in feature_instances_df.itertuples():\n",
    "    \n",
    "    #stores the file ID of the audio file (string type)\n",
    "    sound_filename = f\"16khz_{row.File}.wav\"\n",
    "    \n",
    "    #stores the line number of the utterance\n",
    "    sound_line = row.Line\n",
    "    \n",
    "    #stores the number of feature instances in the utterance\n",
    "    feature_count = row.FeatureCountPerLine\n",
    "    \n",
    "    #stores the utterance start time in seconds and milliseconds (float type)\n",
    "    utt_start_time = row.UttStartTime\n",
    "    \n",
    "    #stores the utterance end time in seconds and milliseconds (float type)\n",
    "    utt_end_time = row.UttEndTime\n",
    "    \n",
    "    #creates an instance of the Parselmouth Sound class using the audio filename\n",
    "    sound = parselmouth.Sound(f\"{audio_input_path}{sound_filename}\")\n",
    "    \n",
    "    #extracts the desired section of the audio\n",
    "    subsound = sound.extract_part(from_time=utt_start_time,to_time=utt_end_time, preserve_times=False)\n",
    "    \n",
    "    #saves the section as a wav file\n",
    "    #the first argument here is the file path plus the new file name\n",
    "    #  the file names will include originalAudioFileID_utteranceStartTime_UtteranceEndTime.wav\n",
    "    subsound.save(f\"{audio_output_path}{sound_filename[:-4]}_Line{sound_line}_FeatCount{feature_count}.wav\", \"WAV\")"
   ]
  },
  {
   "cell_type": "markdown",
   "id": "88a0d50f-b165-4758-bb6d-2ef6fa39681e",
   "metadata": {},
   "source": [
    "### Feature: Done"
   ]
  },
  {
   "cell_type": "code",
   "execution_count": null,
   "id": "4c248b50-b9be-4335-a315-52c3725917ff",
   "metadata": {},
   "outputs": [],
   "source": [
    "# Designate the filename of the gold standard corpus CSV\n",
    "csv_filename = \"done_coraal_instances_GoldStandard.csv\"\n",
    "\n",
    "# Designate the output path where the parsed audio files will be stored\n",
    "audio_output_path = \"path\"\n",
    "\n",
    "#reads in the CSV file and converts to a pandas dataframe\n",
    "feature_instances_df = pd.read_csv(f\"{csv_input_path}{csv_filename}\")\n",
    "\n",
    "#loops through dataframe rows and produces desired sound clips\n",
    "for row in feature_instances_df.itertuples():\n",
    "    \n",
    "    #stores the file ID of the audio file (string type)\n",
    "    sound_filename = f\"16khz_{row.File}.wav\"\n",
    "    \n",
    "    #stores the line number of the utterance\n",
    "    sound_line = row.Line\n",
    "    \n",
    "    #stores the number of feature instances in the utterance\n",
    "    feature_count = row.FeatureCountPerLine\n",
    "    \n",
    "    #stores the utterance start time in seconds and milliseconds (float type)\n",
    "    utt_start_time = row.UttStartTime\n",
    "    \n",
    "    #stores the utterance end time in seconds and milliseconds (float type)\n",
    "    utt_end_time = row.UttEndTime\n",
    "    \n",
    "    #creates an instance of the Parselmouth Sound class using the audio filename\n",
    "    sound = parselmouth.Sound(f\"{audio_input_path}{sound_filename}\")\n",
    "    \n",
    "    #extracts the desired section of the audio\n",
    "    subsound = sound.extract_part(from_time=utt_start_time,to_time=utt_end_time, preserve_times=False)\n",
    "    \n",
    "    #saves the section as a wav file\n",
    "    #the first argument here is the file path plus the new file name\n",
    "    #  the file names will include originalAudioFileID_utteranceStartTime_UtteranceEndTime.wav\n",
    "    subsound.save(f\"{audio_output_path}{sound_filename[:-4]}_Line{sound_line}_FeatCount{feature_count}.wav\", \"WAV\")"
   ]
  },
  {
   "cell_type": "code",
   "execution_count": null,
   "id": "215b7c27-06f4-4143-8789-438214d1608b",
   "metadata": {},
   "outputs": [],
   "source": []
  }
 ],
 "metadata": {
  "kernelspec": {
   "display_name": "Python 3 (ipykernel)",
   "language": "python",
   "name": "python3"
  },
  "language_info": {
   "codemirror_mode": {
    "name": "ipython",
    "version": 3
   },
   "file_extension": ".py",
   "mimetype": "text/x-python",
   "name": "python",
   "nbconvert_exporter": "python",
   "pygments_lexer": "ipython3",
   "version": "3.9.6"
  }
 },
 "nbformat": 4,
 "nbformat_minor": 5
}
