{
 "cells": [
  {
   "cell_type": "markdown",
   "id": "9af98568-db11-4b00-9546-6cd0c9e4a154",
   "metadata": {},
   "source": [
    "# Step 2.2: Getting Speech to Noise Ratio\n",
    "\n",
    "This code will get you the Speech-to-Noise Ratio for audio files. This process was really difficult to make work, so be sure to follow directions carefully. I did not develop this code myself. It is adapted directly from sources which I will cite below. Huge thank you to Rémi Rigal ([LinkedIn](https://www.linkedin.com/in/r%C3%A9mi-rigal-02b798142/?originalSubdomain=fr), [GitHub](https://github.com/RemiRigal)) and John Meade ([LinkedIn](https://www.linkedin.com/in/jgmeade/), [GitHub](https://gist.github.com/johnmeade)) for taking the time for personal correspondence and troubleshooting their code with me!\n",
    "\n",
    "**Note:** I will provide two options here. You can perform either or both. By default, this will produce a dataframe with the results from both options for checking. You must install *snreval* with pip or other methods for Option \\#2 to work. Option 2 will also give you the NIST STNR (https://labrosa.ee.columbia.edu/~dpwe/tmp/nist/doc/stnr.txt)."
   ]
  },
  {
   "cell_type": "markdown",
   "id": "82f27e6b-6798-4684-9d4b-b505d5bbc52f",
   "metadata": {},
   "source": [
    "## Required Packages\n",
    "\n",
    "The following packages are necessary to run this code:\n",
    "os, [pandas](https://pypi.org/project/pandas/), [numpy](https://pypi.org/project/numpy/), [soundfile](https://pypi.org/project/SoundFile/), [snreval](https://pypi.org/project/snreval/), [interruptingcow](https://pypi.org/project/interruptingcow/)"
   ]
  },
  {
   "cell_type": "markdown",
   "id": "c54ee4f3-ed83-4359-8a6c-c0a6853d0357",
   "metadata": {},
   "source": [
    "## References:\n",
    "\n",
    "**Option 1:** The *wada_snr* function is the work of [John Meade](https://gist.github.com/johnmeade) and is taken from https://gist.github.com/johnmeade/d8d2c67b87cda95cd253f55c21387e75.\n",
    "\n",
    "**Option 2:** The *snreval* code is the work of [Rémi Rigal](https://github.com/RemiRigal) and is taken from https://github.com/RemiRigal/snreval-python."
   ]
  },
  {
   "cell_type": "markdown",
   "id": "5221c65d-dbf1-4d96-a712-1fda33232cfd",
   "metadata": {},
   "source": [
    "## Initial Set-Up for Both Options"
   ]
  },
  {
   "cell_type": "code",
   "execution_count": null,
   "id": "52d0efc7-5c93-4147-950c-3ecb0d747c0d",
   "metadata": {},
   "outputs": [],
   "source": [
    "import pandas as pd\n",
    "\n",
    "#this is the filepath where the gold standard .csv file is stored\n",
    "aint_gold_standard_csv_path = \"path\"\n",
    "\n",
    "be_gold_standard_csv_path = \"path\"\n",
    "\n",
    "done_gold_standard_csv_path = \"path\"\n",
    "\n",
    "\n",
    "#This will create the dataframe from the csv\n",
    "aint_gs_df = pd.read_csv(aint_gold_standard_csv_path)\n",
    "\n",
    "be_gs_df = pd.read_csv(be_gold_standard_csv_path)\n",
    "\n",
    "done_gs_df = pd.read_csv(done_gold_standard_csv_path)\n",
    "\n",
    "\n",
    "\n",
    "#this is the path where the .wav files are stored\n",
    "aint_wav_path = \"path\"\n",
    "\n",
    "be_wav_path = \"path\"\n",
    "\n",
    "done_wav_path = \"path\""
   ]
  },
  {
   "cell_type": "markdown",
   "id": "d81d251f-f13d-4b86-bd60-12c23bbf99cb",
   "metadata": {},
   "source": [
    "# Option 1: snr.py\n",
    "\n",
    "The *wada_snr* function is the work of [John Meade](https://gist.github.com/johnmeade) and is taken from https://gist.github.com/johnmeade/d8d2c67b87cda95cd253f55c21387e75."
   ]
  },
  {
   "cell_type": "code",
   "execution_count": null,
   "id": "36a19ba2-5881-4942-91ed-1408466e30be",
   "metadata": {},
   "outputs": [],
   "source": [
    "# import required packages\n",
    "import os\n",
    "import pandas as pd\n",
    "import numpy as np\n",
    "import soundfile as sf"
   ]
  },
  {
   "cell_type": "markdown",
   "id": "a5823998-c3e0-46aa-b41c-ad2ab279b85d",
   "metadata": {},
   "source": [
    "## Define the SNR Getting Function\n",
    "\n",
    "This function takes the following arguments:\n",
    "\n",
    "<ol>\n",
    "<li>The filepath to a wav file</li>\n",
    "</ol>"
   ]
  },
  {
   "cell_type": "code",
   "execution_count": null,
   "id": "e871479d-0d45-478e-b59b-1d0aba232968",
   "metadata": {},
   "outputs": [],
   "source": [
    "def wada_snr(wav):\n",
    "    # Direct blind estimation of the SNR of a speech signal.\n",
    "    #\n",
    "    # Paper on WADA SNR:\n",
    "    #   http://www.cs.cmu.edu/~robust/Papers/KimSternIS08.pdf\n",
    "    #\n",
    "    # This function was adapted from this matlab code:\n",
    "    #   https://labrosa.ee.columbia.edu/projects/snreval/#9\n",
    "    #\n",
    "    # MIT license, John Meade, 2020\n",
    "\n",
    "    \"\"\"\n",
    "    Reads in a numpy arrary and produces the WADA SNR\n",
    "    \"\"\"\n",
    "\n",
    "    #Notes from John\n",
    "    \"\"\"\n",
    "    the WADA algorithm appears to perform consistently across different samplerates, but I have only briefly tested that.\n",
    "\n",
    "    Also, the algo appears to have pretty common edge-cases. If you get exactly -20dB or 100dB SNR you may want to discard those results, they might be kind of undefined\n",
    "    \"\"\"\n",
    "\n",
    "    # init\n",
    "    eps = 1e-10\n",
    "    \n",
    "    # next 2 lines define a fancy curve derived from a gamma distribution -- see paper\n",
    "    db_vals = np.arange(-20, 101)\n",
    "    \n",
    "    g_vals = np.array([0.40974774, 0.40986926, 0.40998566, 0.40969089, 0.40986186, 0.40999006, 0.41027138, 0.41052627, 0.41101024, 0.41143264, 0.41231718, 0.41337272, 0.41526426, 0.4178192 , 0.42077252, 0.42452799, 0.42918886, 0.43510373, 0.44234195, 0.45161485, 0.46221153, 0.47491647, 0.48883809, 0.50509236, 0.52353709, 0.54372088, 0.56532427, 0.58847532, 0.61346212, 0.63954496, 0.66750818, 0.69583724, 0.72454762, 0.75414799, 0.78323148, 0.81240985, 0.84219775, 0.87166406, 0.90030504, 0.92880418, 0.95655449, 0.9835349 , 1.01047155, 1.0362095 , 1.06136425, 1.08579312, 1.1094819 , 1.13277995, 1.15472826, 1.17627308, 1.19703503, 1.21671694, 1.23535898, 1.25364313, 1.27103891, 1.28718029, 1.30302865, 1.31839527, 1.33294817, 1.34700935, 1.3605727 , 1.37345513, 1.38577122, 1.39733504, 1.40856397, 1.41959619, 1.42983624, 1.43958467, 1.44902176, 1.45804831, 1.46669568, 1.47486938, 1.48269965, 1.49034339, 1.49748214, 1.50435106, 1.51076426, 1.51698915, 1.5229097 , 1.528578  , 1.53389835, 1.5391211 , 1.5439065 , 1.54858517, 1.55310776, 1.55744391, 1.56164927, 1.56566348, 1.56938671, 1.57307767, 1.57654764, 1.57980083, 1.58304129, 1.58602496, 1.58880681, 1.59162477, 1.5941969 , 1.59693155, 1.599446  , 1.60185011, 1.60408668, 1.60627134, 1.60826199, 1.61004547, 1.61192472, 1.61369656, 1.61534074, 1.61688905, 1.61838916, 1.61985374, 1.62135878, 1.62268119, 1.62390423, 1.62513143, 1.62632463, 1.6274027 , 1.62842767, 1.62945532, 1.6303307 , 1.63128026, 1.63204102])\n",
    "\n",
    "    \n",
    "    # peak normalize, get magnitude, clip lower bound\n",
    "    wav = np.array(wav)\n",
    "    \n",
    "    wav = wav / abs(wav).max()\n",
    "    \n",
    "    abs_wav = abs(wav)\n",
    "    \n",
    "    abs_wav[abs_wav < eps] = eps\n",
    "\n",
    "    # calcuate statistics\n",
    "    # E[|z|]\n",
    "    v1 = max(eps, abs_wav.mean())\n",
    "    \n",
    "    # E[log|z|]\n",
    "    v2 = np.log(abs_wav).mean()\n",
    "    \n",
    "    # log(E[|z|]) - E[log(|z|)]\n",
    "    v3 = np.log(v1) - v2\n",
    "\n",
    "    \n",
    "    # table interpolation\n",
    "    wav_snr_idx = None\n",
    "    \n",
    "    if any(g_vals < v3):\n",
    "        \n",
    "        wav_snr_idx = np.where(g_vals < v3)[0].max()\n",
    "        \n",
    "    # handle edge cases or interpolate\n",
    "    if wav_snr_idx is None:\n",
    "        \n",
    "        wav_snr = db_vals[0]\n",
    "        \n",
    "    elif wav_snr_idx == len(db_vals) - 1:\n",
    "        \n",
    "        wav_snr = db_vals[-1]\n",
    "        \n",
    "    else:\n",
    "        \n",
    "        wav_snr = db_vals[wav_snr_idx] + \\\n",
    "            (v3-g_vals[wav_snr_idx]) / (g_vals[wav_snr_idx+1] - \\\n",
    "            g_vals[wav_snr_idx]) * (db_vals[wav_snr_idx+1] - db_vals[wav_snr_idx])\n",
    "\n",
    "        \n",
    "    # Calculate SNR\n",
    "    dEng = sum(wav**2)\n",
    "    \n",
    "    dFactor = 10**(wav_snr / 10)\n",
    "    \n",
    "    dNoiseEng = dEng / (1 + dFactor) # Noise energy\n",
    "    \n",
    "    dSigEng = dEng * dFactor / (1 + dFactor) # Signal energy\n",
    "    \n",
    "    snr = 10 * np.log10(dSigEng / dNoiseEng)\n",
    "\n",
    "    return snr"
   ]
  },
  {
   "cell_type": "markdown",
   "id": "476f4536-5510-4632-a102-833c29087d75",
   "metadata": {},
   "source": [
    "## Adding the WADA Speech-to-Noise Ratio Column to the Dataframe"
   ]
  },
  {
   "cell_type": "markdown",
   "id": "e4a85cd9-f0b0-4843-b049-04e60382bef2",
   "metadata": {},
   "source": [
    "### Feature: Ain't"
   ]
  },
  {
   "cell_type": "code",
   "execution_count": null,
   "id": "e7912b83-eadc-4769-be3d-368af9328c72",
   "metadata": {},
   "outputs": [],
   "source": [
    "#creates a new column for WADA_SNR filled with \n",
    "# nan values which will be replaced\n",
    "aint_gs_df[\"WadaSNRMeade\"] = np.nan\n",
    "\n",
    "#loops through the rows of the gold standard dataframe\n",
    "for file_row in aint_gs_df.itertuples():\n",
    "\n",
    "    #this will convert a .wav audio file to a numpy arrary\n",
    "    wav, samplerate = sf.read(\n",
    "        f\"{aint_wav_path}/16khz_{file_row.File}_Line{file_row.Line}_FeatCount{file_row.FeatureCountPerLine}.wav\")\n",
    "    \n",
    "    #this will return the WADA Speech-to-noise Ratio\n",
    "    # and replace the row's nan value in the WadaSNRMeade\n",
    "    # column with the WADA SNR value\n",
    "    aint_gs_df.loc[file_row.Index, \"WadaSNRMeade\"] = float(wada_snr(wav))"
   ]
  },
  {
   "cell_type": "markdown",
   "id": "31a8ebad-7d2e-425f-93a2-3f38cd792e27",
   "metadata": {},
   "source": [
    "### Feature: Be"
   ]
  },
  {
   "cell_type": "code",
   "execution_count": null,
   "id": "e1dfe598-92bb-4557-95e7-f0c1d0cdc7cc",
   "metadata": {},
   "outputs": [],
   "source": [
    "#creates a new column for WADA_SNR filled with \n",
    "# nan values which will be replaced\n",
    "be_gs_df[\"WadaSNRMeade\"] = np.nan\n",
    "\n",
    "#loops through the rows of the gold standard dataframe\n",
    "for file_row in be_gs_df.itertuples():\n",
    "\n",
    "    #this will convert a .wav audio file to a numpy arrary\n",
    "    wav, samplerate = sf.read(\n",
    "        f\"{be_wav_path}/16khz_{file_row.File}_Line{file_row.Line}_FeatCount{file_row.FeatureCountPerLine}.wav\")\n",
    "    \n",
    "    #this will return the WADA Speech-to-noise Ratio\n",
    "    # and replace the row's nan value in the WadaSNRMeade\n",
    "    # column with the WADA SNR value\n",
    "    be_gs_df.loc[file_row.Index, \"WadaSNRMeade\"] = float(wada_snr(wav))"
   ]
  },
  {
   "cell_type": "markdown",
   "id": "6c9b852e-5050-4002-aac5-26a0b1274d94",
   "metadata": {},
   "source": [
    "### Feature: Done"
   ]
  },
  {
   "cell_type": "code",
   "execution_count": null,
   "id": "5d5fd207-0a4f-47b1-9c41-ea7621f13aff",
   "metadata": {},
   "outputs": [],
   "source": [
    "#creates a new column for WADA_SNR filled with \n",
    "# nan values which will be replaced\n",
    "done_gs_df[\"WadaSNRMeade\"] = np.nan\n",
    "\n",
    "#loops through the rows of the gold standard dataframe\n",
    "for file_row in done_gs_df.itertuples():\n",
    "\n",
    "    #this will convert a .wav audio file to a numpy arrary\n",
    "    wav, samplerate = sf.read(\n",
    "        f\"{done_wav_path}/16khz_{file_row.File}_Line{file_row.Line}_FeatCount{file_row.FeatureCountPerLine}.wav\")\n",
    "    \n",
    "    #this will return the WADA Speech-to-noise Ratio\n",
    "    # and replace the row's nan value in the WadaSNRMeade\n",
    "    # column with the WADA SNR value\n",
    "    done_gs_df.loc[file_row.Index, \"WadaSNRMeade\"] = float(wada_snr(wav))"
   ]
  },
  {
   "cell_type": "markdown",
   "id": "e9e7081c-271d-4669-86f2-1bd26fc1c332",
   "metadata": {},
   "source": [
    "# Option 2: SNReval\n",
    "\n",
    "The *snreval* code is the work of [Rémi Rigal](https://github.com/RemiRigal) and is taken from https://github.com/RemiRigal/snreval-python."
   ]
  },
  {
   "cell_type": "markdown",
   "id": "a239e3bf-415f-401f-8977-36d6ebe96aac",
   "metadata": {},
   "source": [
    "## Installation Directions\n",
    "\n",
    "This option is more complicated to install. Here are the things I had to do to make it work:\n",
    "\n",
    "<ol>\n",
    "    <li>At the time of this installation, I was currently using macOS BigSur 11.2.3 and python3.9.2</li>\n",
    "    <li> Go here <a href=\"https://labrosa.ee.columbia.edu/projects/snreval/#9\">https://labrosa.ee.columbia.edu/projects/snreval/#9</a> and install the MATLAB Compiler Runtime (\"MACI64 MCR Installer\") and download and unzip the \"snreval_MACI64.zip\" </li>\n",
    "    <li>When I installed the MATLAB Compiler Runtime, it installed as  a folder rather than an app, so I had to change a line in the code to rule compiler:\n",
    "        <ul>\n",
    "            <li>In the \"snreval_MACI64\" folder that you downloaded, you'll see a file called \"run_snreval_prj.sh\".</li> \n",
    "            <li>Open that in a text editor, and change line 14 from \"MCRROOT=/Applications/MATLAB_R2010b.app\" to \"MCRROOT=/Applications/MATLAB/MATLAB_Compiler_Runtime/v714\". This should direct the run file to the right folder</li>\n",
    "        </ul>\n",
    "    </li>\n",
    "    <li>One other thing that was missing was something called XQuartz. Apparently, Mac used to ship with X11 code (not sure what it is), but now it doesn't. The SNReval needs this to run, so install it from here: <a href=\"https://www.xquartz.org/\">https://www.xquartz.org/</a>. Once you have that, everything should be ready!</li>\n",
    "</ol>"
   ]
  },
  {
   "cell_type": "code",
   "execution_count": null,
   "id": "ee88ff7e-db8f-430e-983a-2d7d49f918b3",
   "metadata": {},
   "outputs": [],
   "source": [
    "# import required packages\n",
    "import os\n",
    "import pandas as pd\n",
    "import numpy as np\n",
    "import soundfile as sf\n",
    "from interruptingcow import timeout\n",
    "\n",
    "#the following assumes you have installed snreval as laid out above\n",
    "from snreval import SNREval"
   ]
  },
  {
   "cell_type": "markdown",
   "id": "3f6e2de9-7c30-47f5-8a3d-c5d01d248985",
   "metadata": {},
   "source": [
    "## Define the SNR Getting Function\n",
    "\n",
    "This function takes the following arguments:\n",
    "\n",
    "<ol>\n",
    "<li>The gold standard dataframe (created in the initial set-up above</li>\n",
    "<li>The filepath to a wav file</li>\n",
    "</ol>"
   ]
  },
  {
   "cell_type": "code",
   "execution_count": null,
   "id": "156c410d-dc4f-45b5-aae5-0fd0964a394b",
   "metadata": {},
   "outputs": [],
   "source": [
    "def get_Rigal_df(gs_df, wav_path):\n",
    "\n",
    "    #loops through the rows of the gold standard dataframe\n",
    "    for file_row in gs_df.itertuples():\n",
    "\n",
    "        #the code was getting stuck and running endlessly on single files\n",
    "        #  I calculated the average time for this code to process the CORAAL parsed files, \n",
    "        #  which was about 5 seconds. So, this will try to process the file,\n",
    "        #  and if it takes more than 10 seconds, it will skip it and write a \n",
    "        #  NaN to the SNR columns\n",
    "        try:\n",
    "\n",
    "            #sets the timeout timer to 10 seconds\n",
    "            with timeout(10, exception = RuntimeError):\n",
    "\n",
    "                #this will create an instance of the class SNREval\n",
    "                # essentially, this will get the process up and running\n",
    "                snr_eval = SNREval(f\"{snreval_path}\")\n",
    "\n",
    "                #this will create a dataframe that will give you the \n",
    "                # WADA SNR and NIST STNR\n",
    "                snr_df = snr_eval.eval(f\"{wav_path}/16khz_{file_row.File}_Line{file_row.Line}_FeatCount{file_row.FeatureCountPerLine}.wav\")\n",
    "\n",
    "                #this will return the WADA Speech-to-noise Ratio\n",
    "                # and replace the row's nan value in the WadaSNR\n",
    "                # column with the WADA SNR value\n",
    "                gs_df.loc[file_row.Index, \"WadaSNRRigal\"] = float(snr_df.iloc[0]['SNR'])\n",
    "\n",
    "                #this will return the NIST STNR\n",
    "                # and replace the row's nan value in the NistSNRRigal\n",
    "                # column with the NistSNRRigal value\n",
    "                gs_df.loc[file_row.Index, \"NistSNRRigal\"] = float(snr_df.iloc[0]['STNR'])\n",
    "                \n",
    "                # enable this if you want to see the progress in real time\n",
    "                print(f\"{file_row.File}--{file_row.Line}\")\n",
    "\n",
    "        except RuntimeError: \n",
    "\n",
    "            #writes a NaN to the row\n",
    "            gs_df.loc[file_row.Index, \"WadaSNRRigal\"] = \"\"\n",
    "\n",
    "            #writes a NaN to the row\n",
    "            gs_df.loc[file_row.Index, \"NistSNRRigal\"] = \"\"     \n",
    "\n",
    "            #prints a flag in case you want to see exactly where things are\n",
    "            #getting stuck\n",
    "            print(f\"{file_row.File}--{file_row.Line} got stuck and has been skipped.\")\n",
    "\n",
    "            #passes to the next iteration\n",
    "            pass \n",
    "        \n",
    "    return gs_df"
   ]
  },
  {
   "cell_type": "markdown",
   "id": "0b2928e6-601c-497e-85e4-74c290026d7e",
   "metadata": {},
   "source": [
    "## Adding the WADA and NIST Speech-to-Noise Ratio Columns to the Dataframe"
   ]
  },
  {
   "cell_type": "code",
   "execution_count": null,
   "id": "3775004f-0d34-40d7-9141-8a9b03c3419c",
   "metadata": {},
   "outputs": [],
   "source": [
    "#this is the path to the unzipped snreval_MACI64 folder\n",
    "snreval_path = \"path\""
   ]
  },
  {
   "cell_type": "markdown",
   "id": "bcda0751-3825-4311-bb06-a525aca4f1d1",
   "metadata": {},
   "source": [
    "### Feature: Ain't"
   ]
  },
  {
   "cell_type": "code",
   "execution_count": null,
   "id": "a923ca1e-1c97-4cd2-8067-fb23add2dc3d",
   "metadata": {},
   "outputs": [],
   "source": [
    "#creates new columns for WADA_SNR and NIST_STNR filled with \n",
    "# nan values which will be replaced\n",
    "aint_gs_df[\"WadaSNRRigal\"] = np.nan\n",
    "aint_gs_df[\"NistSNRRigal\"] = np.nan\n",
    "\n",
    "# executes the function\n",
    "aint_gs_df = get_Rigal_df(aint_gs_df, aint_wav_path)"
   ]
  },
  {
   "cell_type": "markdown",
   "id": "36836c95-b489-44ab-92f5-f86af2cacbe6",
   "metadata": {},
   "source": [
    "### Feature: Be"
   ]
  },
  {
   "cell_type": "code",
   "execution_count": null,
   "id": "ad2cb8e6-7385-4310-a094-03094b06a06b",
   "metadata": {},
   "outputs": [],
   "source": [
    "#creates new columns for WADA_SNR and NIST_STNR filled with \n",
    "# nan values which will be replaced\n",
    "be_gs_df[\"WadaSNRRigal\"] = np.nan\n",
    "be_gs_df[\"NistSNRRigal\"] = np.nan\n",
    "\n",
    "# executes the function\n",
    "be_gs_df = get_Rigal_df(be_gs_df, be_wav_path)"
   ]
  },
  {
   "cell_type": "markdown",
   "id": "51bcf3dd-4d96-4229-8259-ebb074dc785f",
   "metadata": {},
   "source": [
    "### Feature: Done"
   ]
  },
  {
   "cell_type": "code",
   "execution_count": null,
   "id": "06c02252-c766-4a68-b735-803c7a38befc",
   "metadata": {
    "tags": []
   },
   "outputs": [],
   "source": [
    "#creates new columns for WADA_SNR and NIST_STNR filled with \n",
    "# nan values which will be replaced\n",
    "done_gs_df[\"WadaSNRRigal\"] = np.nan\n",
    "done_gs_df[\"NistSNRRigal\"] = np.nan\n",
    "\n",
    "# executes the function\n",
    "done_gs_df = get_Rigal_df(done_gs_df, done_wav_path)"
   ]
  },
  {
   "cell_type": "markdown",
   "id": "4e0c303e-b650-4e9d-bc79-e279751611fe",
   "metadata": {},
   "source": [
    "## Sorting the Dataframes by File and Line\n",
    "\n",
    "This will sort the dataframes first by filename and then by line number. Doing this each step will ensure consistency across the board."
   ]
  },
  {
   "cell_type": "markdown",
   "id": "2ef57205-3bfd-4933-bdbe-5f8e6e75ea9d",
   "metadata": {},
   "source": [
    "### Feature: Ain't"
   ]
  },
  {
   "cell_type": "code",
   "execution_count": null,
   "id": "d3f32913-4e1f-44ea-bd82-f0fdbfd167c7",
   "metadata": {},
   "outputs": [],
   "source": [
    "aint_gs_df = aint_gs_df.sort_values(by=['File', 'Line'])"
   ]
  },
  {
   "cell_type": "markdown",
   "id": "12a08157-c6a8-4cbb-8978-e6af4b931a7e",
   "metadata": {},
   "source": [
    "### Feature: Be"
   ]
  },
  {
   "cell_type": "code",
   "execution_count": null,
   "id": "af12356d-7ffb-4af6-9c58-21e00fae9210",
   "metadata": {},
   "outputs": [],
   "source": [
    "be_gs_df = be_gs_df.sort_values(by=['File', 'Line'])"
   ]
  },
  {
   "cell_type": "markdown",
   "id": "b39cd837-4bb3-4129-b4db-583aeb11ea90",
   "metadata": {},
   "source": [
    "### Feature: Done"
   ]
  },
  {
   "cell_type": "code",
   "execution_count": null,
   "id": "e4cc53ff-73c4-484b-ad31-2025fba38270",
   "metadata": {},
   "outputs": [],
   "source": [
    "done_gs_df = done_gs_df.sort_values(by=['File', 'Line'])"
   ]
  },
  {
   "cell_type": "markdown",
   "id": "5f983788-c9a5-4b73-8a2e-1d18a6ae24b9",
   "metadata": {},
   "source": [
    "## Exporting Dataframes to CSV Files\n",
    "\n",
    "This will export the dataframes to CSV files."
   ]
  },
  {
   "cell_type": "code",
   "execution_count": null,
   "id": "34ff3dee-e5ab-47f3-a75d-14de88610b74",
   "metadata": {},
   "outputs": [],
   "source": [
    "# Designate the output path where the CSVs will be stored\n",
    "csv_output_path = \"path\""
   ]
  },
  {
   "cell_type": "markdown",
   "id": "44331a54-e11e-4b58-813a-717796e37e73",
   "metadata": {},
   "source": [
    "### Feature: Ain't"
   ]
  },
  {
   "cell_type": "code",
   "execution_count": null,
   "id": "247e3561-7148-4ace-aa8f-2e2ca60a93e6",
   "metadata": {},
   "outputs": [],
   "source": [
    "aint_gs_df.to_csv(f\"{csv_output_path}aint_variations_SNR.csv\", index=False)"
   ]
  },
  {
   "cell_type": "markdown",
   "id": "ddf982d6-41cb-46d8-9917-8d4a6a5bdd4d",
   "metadata": {},
   "source": [
    "### Feature: Be"
   ]
  },
  {
   "cell_type": "code",
   "execution_count": null,
   "id": "26b6042b-fa7e-4017-aac3-7cfca0b8fc94",
   "metadata": {},
   "outputs": [],
   "source": [
    "be_gs_df.to_csv(f\"{csv_output_path}be_SNR.csv\", index=False)"
   ]
  },
  {
   "cell_type": "markdown",
   "id": "101802dd-7fd7-4676-a52b-8b9d76e1c990",
   "metadata": {},
   "source": [
    "### Feature: Done"
   ]
  },
  {
   "cell_type": "code",
   "execution_count": null,
   "id": "3d4cab56-e32a-467e-aa8e-12a6640b5ef9",
   "metadata": {},
   "outputs": [],
   "source": [
    "done_gs_df.to_csv(f\"{csv_output_path}done_SNR.csv\", index=False)"
   ]
  },
  {
   "cell_type": "code",
   "execution_count": null,
   "id": "b3df4499-4d1b-4953-939e-b1179bebf0b3",
   "metadata": {},
   "outputs": [],
   "source": []
  }
 ],
 "metadata": {
  "kernelspec": {
   "display_name": "Python 3 (ipykernel)",
   "language": "python",
   "name": "python3"
  },
  "language_info": {
   "codemirror_mode": {
    "name": "ipython",
    "version": 3
   },
   "file_extension": ".py",
   "mimetype": "text/x-python",
   "name": "python",
   "nbconvert_exporter": "python",
   "pygments_lexer": "ipython3",
   "version": "3.9.6"
  }
 },
 "nbformat": 4,
 "nbformat_minor": 5
}
